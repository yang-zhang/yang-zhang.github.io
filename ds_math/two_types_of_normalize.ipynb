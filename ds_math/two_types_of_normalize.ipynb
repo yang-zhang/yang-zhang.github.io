{
 "cells": [
  {
   "cell_type": "code",
   "execution_count": 23,
   "metadata": {},
   "outputs": [],
   "source": [
    "import numpy as np\n",
    "from sklearn import preprocessing\n",
    "import matplotlib.pyplot as plt\n"
   ]
  },
  {
   "cell_type": "code",
   "execution_count": null,
   "metadata": {},
   "outputs": [],
   "source": [
    "n_samples = 100\n",
    "n_features = 2\n",
    "X = np.random.randn(n_samples, n_features)"
   ]
  },
  {
   "cell_type": "markdown",
   "metadata": {},
   "source": [
    "# l2 normalize"
   ]
  },
  {
   "cell_type": "code",
   "execution_count": 27,
   "metadata": {},
   "outputs": [
    {
     "data": {
      "text/plain": [
       "(-0.03712384382512248, 1.0533835154245035)"
      ]
     },
     "execution_count": 27,
     "metadata": {},
     "output_type": "execute_result"
    }
   ],
   "source": [
    "X.mean(), X.std()"
   ]
  },
  {
   "cell_type": "code",
   "execution_count": 28,
   "metadata": {},
   "outputs": [
    {
     "data": {
      "text/plain": [
       "array([ 0.50067503,  0.2089686 ,  0.4319456 , -0.80861513,  0.98130552,\n",
       "       -1.01040096, -0.67189088, -0.5646806 ,  0.15301169, -0.11188516,\n",
       "        0.86289877,  0.21204003, -0.03165183, -1.05052057,  0.74630494,\n",
       "        0.284679  ,  1.74610615,  1.13362906,  0.98890054,  1.2822874 ,\n",
       "        0.55335641, -1.36272365,  1.01983832,  0.62154823,  0.52491227,\n",
       "       -0.39509808,  0.98679689,  0.00361051,  0.02813077,  1.42004737,\n",
       "       -0.13928239, -0.22350223, -0.60761292, -0.17494804, -1.64176208,\n",
       "        0.26789574,  0.13350748, -0.51533102,  0.11310913, -1.3515644 ,\n",
       "       -0.88027579, -0.42974765, -0.4548482 , -1.91396869,  0.83206447,\n",
       "        0.53897123,  0.68612231,  0.65626995, -0.14809808, -0.14102061,\n",
       "       -0.75507546, -0.17476365,  0.29099365, -0.0340663 , -0.94461849,\n",
       "       -0.50098778,  1.34085551, -0.36132628, -1.54137397,  0.1816047 ,\n",
       "       -0.43584608, -0.9142592 , -1.30848181, -1.04905728, -0.31497326,\n",
       "        0.18932452, -0.65893869,  1.09215513, -0.38251926,  0.24691131,\n",
       "        0.56641096, -0.33239705, -0.979668  , -0.53140655,  0.07700757,\n",
       "        1.84387135, -0.85520081, -1.28752876, -0.74099293,  0.42530603,\n",
       "       -0.17629693,  0.5914817 , -0.93467599, -0.14323313, -0.5307065 ,\n",
       "        1.43044437, -0.08576422, -0.20401499,  0.08807633,  0.56228317,\n",
       "        0.29645769,  1.40364757,  0.23093953, -0.91760717, -0.26769335,\n",
       "        0.65630816, -0.81639241,  0.16090124, -0.09902496, -0.39797803])"
      ]
     },
     "execution_count": 28,
     "metadata": {},
     "output_type": "execute_result"
    }
   ],
   "source": [
    "X.mean(1)"
   ]
  },
  {
   "cell_type": "code",
   "execution_count": 29,
   "metadata": {},
   "outputs": [
    {
     "data": {
      "text/plain": [
       "array([2.59180570e-03, 6.35625442e-02, 1.46137056e-01, 9.02091807e-01,\n",
       "       1.52398170e+00, 8.20137085e-01, 5.83861094e-01, 3.54387165e-01,\n",
       "       4.93128143e-01, 5.55649725e-02, 7.17235076e-01, 7.99668774e-01,\n",
       "       1.30945436e+00, 6.87259756e-01, 4.17771237e-01, 6.11503890e-01,\n",
       "       8.57048566e-01, 9.23946024e-01, 3.61482559e-01, 3.56338602e-01,\n",
       "       3.51835234e-01, 1.60890573e+00, 1.01000774e+00, 6.44416806e-01,\n",
       "       9.91982751e-01, 7.28837792e-01, 4.11783821e-01, 4.18235053e-01,\n",
       "       6.87331718e-01, 2.37587507e-01, 3.99835667e-01, 6.31689732e-01,\n",
       "       3.58586808e-01, 5.45036701e-02, 3.72718560e-02, 1.05474683e+00,\n",
       "       3.04357510e-01, 1.98161383e-01, 1.91105847e-01, 7.84020637e-02,\n",
       "       9.11896536e-01, 8.50594280e-01, 5.13088519e-01, 2.31833234e-01,\n",
       "       4.68255363e-01, 3.30755027e-01, 8.07642530e-01, 7.62280260e-01,\n",
       "       1.76274701e-01, 2.88736957e-01, 1.63257871e-02, 1.24032209e+00,\n",
       "       1.11080996e+00, 4.77756515e-01, 1.32872292e+00, 2.46243533e-01,\n",
       "       5.33461056e-01, 9.96258564e-01, 7.13507970e-01, 9.83249264e-01,\n",
       "       3.59472783e-02, 1.03676387e+00, 5.96997834e-01, 7.20763235e-02,\n",
       "       7.10229985e-01, 1.33522530e-03, 7.97071319e-01, 7.51330378e-01,\n",
       "       3.77958618e-01, 5.60566134e-01, 1.48131204e+00, 3.32965895e-01,\n",
       "       1.11303835e+00, 9.54824128e-01, 3.01953971e-02, 1.79788365e+00,\n",
       "       1.11759099e+00, 1.17488446e+00, 4.36241852e-01, 1.58758415e-01,\n",
       "       3.98946027e-01, 3.17795773e-01, 8.19164113e-01, 6.00020226e-01,\n",
       "       1.10840313e-01, 3.46270298e-01, 4.89268351e-01, 7.06283774e-01,\n",
       "       2.68409199e-01, 5.62340531e-01, 3.95820569e-01, 5.22955377e-01,\n",
       "       1.29517506e+00, 9.55420732e-02, 9.70988608e-01, 4.71072633e-01,\n",
       "       1.95328587e-01, 2.31981857e-01, 2.39277327e-01, 2.32130233e-01])"
      ]
     },
     "execution_count": 29,
     "metadata": {},
     "output_type": "execute_result"
    }
   ],
   "source": [
    "X.std(1)"
   ]
  },
  {
   "cell_type": "code",
   "execution_count": 26,
   "metadata": {},
   "outputs": [
    {
     "data": {
      "text/plain": [
       "<matplotlib.collections.PathCollection at 0x7fe7bef41910>"
      ]
     },
     "execution_count": 26,
     "metadata": {},
     "output_type": "execute_result"
    },
    {
     "data": {
      "image/png": "[encoded data removed]",
      "text/plain": [
       "<Figure size 360x360 with 1 Axes>"
      ]
     },
     "metadata": {
      "needs_background": "light"
     },
     "output_type": "display_data"
    }
   ],
   "source": [
    "plt.figure(figsize=(5, 5))\n",
    "plt.scatter(X[:,0], X[:,1])"
   ]
  },
  {
   "cell_type": "code",
   "execution_count": 7,
   "metadata": {},
   "outputs": [
    {
     "data": {
      "text/plain": [
       "array([1., 1., 1., 1., 1., 1., 1., 1., 1., 1., 1., 1., 1., 1., 1., 1., 1.,\n",
       "       1., 1., 1., 1., 1., 1., 1., 1., 1., 1., 1., 1., 1., 1., 1., 1., 1.,\n",
       "       1., 1., 1., 1., 1., 1., 1., 1., 1., 1., 1., 1., 1., 1., 1., 1., 1.,\n",
       "       1., 1., 1., 1., 1., 1., 1., 1., 1., 1., 1., 1., 1., 1., 1., 1., 1.,\n",
       "       1., 1., 1., 1., 1., 1., 1., 1., 1., 1., 1., 1., 1., 1., 1., 1., 1.,\n",
       "       1., 1., 1., 1., 1., 1., 1., 1., 1., 1., 1., 1., 1., 1., 1.])"
      ]
     },
     "execution_count": 7,
     "metadata": {},
     "output_type": "execute_result"
    }
   ],
   "source": [
    "X_normalized = preprocessing.normalize(X, norm='l2')\n",
    "\n",
    "np.linalg.norm(X_normalized, axis=1)"
   ]
  },
  {
   "cell_type": "code",
   "execution_count": 20,
   "metadata": {},
   "outputs": [
    {
     "data": {
      "text/plain": [
       "(-0.02715895646092716, 0.7065850204214306)"
      ]
     },
     "execution_count": 20,
     "metadata": {},
     "output_type": "execute_result"
    }
   ],
   "source": [
    "X_normalized.mean(), X_normalized.std()"
   ]
  },
  {
   "cell_type": "code",
   "execution_count": 21,
   "metadata": {
    "collapsed": true
   },
   "outputs": [
    {
     "data": {
      "text/plain": [
       "(array([ 0.70709731,  0.67650358,  0.66981105, -0.47197485,  0.38281573,\n",
       "        -0.54901179, -0.53374078, -0.59892749,  0.20955082, -0.63330817,\n",
       "         0.54378655,  0.18123329, -0.01708703, -0.59172859,  0.61701114,\n",
       "         0.29843152,  0.63476567,  0.54811513,  0.66412736,  0.68128981,\n",
       "         0.59670557, -0.45701234,  0.50241562,  0.49088784,  0.33072105,\n",
       "        -0.33698807,  0.65256866,  0.00610403,  0.02891591,  0.69741299,\n",
       "        -0.23261068, -0.23585814, -0.60896758, -0.67510313, -0.70692463,\n",
       "         0.17407142,  0.28404851, -0.65999339,  0.36015763, -0.70592008,\n",
       "        -0.49110166, -0.31886678, -0.46906689, -0.70197593,  0.61622762,\n",
       "         0.60267187,  0.45781176,  0.46134781, -0.4548547 , -0.31032036,\n",
       "        -0.70694156, -0.0986581 ,  0.17919089, -0.05029238, -0.40971285,\n",
       "        -0.63459441,  0.65701785, -0.24108916, -0.64169046,  0.12842937,\n",
       "        -0.70471395, -0.46768398, -0.64331202, -0.70544372, -0.28666295,\n",
       "         0.7070892 , -0.45054168,  0.58256764, -0.50298949,  0.28503278,\n",
       "         0.25254481, -0.49957235, -0.46718667, -0.34387042,  0.65830806,\n",
       "         0.50627358, -0.42971355, -0.52232651, -0.6093488 ,  0.66245847,\n",
       "        -0.28581203,  0.62289207, -0.53177899, -0.16418306, -0.69217161,\n",
       "         0.68725722, -0.12208779, -0.19623015,  0.22046529,  0.4999745 ,\n",
       "         0.42389085,  0.66261282,  0.12412475, -0.70330474, -0.18793218,\n",
       "         0.57445061, -0.68769725,  0.40299735, -0.27039537, -0.61079969]),\n",
       " array([0.00366038, 0.20577392, 0.22661236, 0.5265356 , 0.59451839,\n",
       "        0.44562995, 0.46381114, 0.37588012, 0.67534321, 0.31451671,\n",
       "        0.45199136, 0.68348701, 0.7069003 , 0.38711403, 0.34539435,\n",
       "        0.64104495, 0.31156468, 0.44673237, 0.24276502, 0.18932562,\n",
       "        0.37939751, 0.53957365, 0.49757265, 0.50894904, 0.62499887,\n",
       "        0.62164221, 0.27231259, 0.70708043, 0.7065153 , 0.11668386,\n",
       "        0.66775166, 0.66661153, 0.35938627, 0.21032301, 0.01604885,\n",
       "        0.685346  , 0.64754648, 0.25378873, 0.60851169, 0.04094928,\n",
       "        0.50874272, 0.63112913, 0.52912782, 0.08502822, 0.3467903 ,\n",
       "        0.36984674, 0.53889553, 0.53587144, 0.54139376, 0.63537491,\n",
       "        0.01528506, 0.70019039, 0.68402531, 0.70531601, 0.57631188,\n",
       "        0.31191334, 0.26139538, 0.66473755, 0.297041  , 0.69534588,\n",
       "        0.05812269, 0.53035054, 0.29351259, 0.04846808, 0.64639334,\n",
       "        0.0049868 , 0.54498825, 0.40076794, 0.49699253, 0.64711384,\n",
       "        0.66047038, 0.50042729, 0.53078867, 0.61786174, 0.25812884,\n",
       "        0.4936467 , 0.561557  , 0.47662881, 0.35873952, 0.24728278,\n",
       "        0.64677004, 0.33467218, 0.46605912, 0.68778189, 0.14456299,\n",
       "        0.16636562, 0.69648731, 0.6793333 , 0.6718594 , 0.5000255 ,\n",
       "        0.56596515, 0.2468689 , 0.69612718, 0.07322871, 0.68167551,\n",
       "        0.41231844, 0.16453721, 0.58102766, 0.6533654 , 0.35626357]))"
      ]
     },
     "execution_count": 21,
     "metadata": {},
     "output_type": "execute_result"
    }
   ],
   "source": [
    "X_normalized.mean(1), X_normalized.std(1)"
   ]
  },
  {
   "cell_type": "code",
   "execution_count": 24,
   "metadata": {},
   "outputs": [
    {
     "data": {
      "text/plain": [
       "<matplotlib.collections.PathCollection at 0x7fe7befcc7d0>"
      ]
     },
     "execution_count": 24,
     "metadata": {},
     "output_type": "execute_result"
    },
    {
     "data": {
      "image/png": "[encoded data removed]",
      "text/plain": [
       "<Figure size 360x360 with 1 Axes>"
      ]
     },
     "metadata": {
      "needs_background": "light"
     },
     "output_type": "display_data"
    }
   ],
   "source": [
    "plt.figure(figsize=(5, 5))\n",
    "plt.scatter(X_normalized[:,0], X_normalized[:,1])\n"
   ]
  },
  {
   "cell_type": "markdown",
   "metadata": {},
   "source": [
    "# normalize by mean std"
   ]
  },
  {
   "cell_type": "code",
   "execution_count": 31,
   "metadata": {},
   "outputs": [
    {
     "data": {
      "text/plain": [
       "(0.0, 1.0)"
      ]
     },
     "execution_count": 31,
     "metadata": {},
     "output_type": "execute_result"
    }
   ],
   "source": [
    "mean,sd=np.mean(X),np.std(X)\n",
    "X_n = (X-mean)/sd\n",
    "X_n.mean(), X_n.std()"
   ]
  },
  {
   "cell_type": "code",
   "execution_count": 32,
   "metadata": {},
   "outputs": [
    {
     "data": {
      "text/plain": [
       "(array([ 0.51054423,  0.23362094,  0.44529788, -0.73239354,  0.96681726,\n",
       "        -0.92395325, -0.60259823, -0.50082117,  0.18049982, -0.07097255,\n",
       "         0.85441114,  0.23653671,  0.0051947 , -0.96203967,  0.74372607,\n",
       "         0.30549448,  1.69285921,  1.11142132,  0.97402738,  1.25254594,\n",
       "         0.56055581, -1.25842087,  1.00339729,  0.6252918 ,  0.53355317,\n",
       "        -0.33983277,  0.97203034,  0.03867001,  0.06194763,  1.38332449,\n",
       "        -0.09698134, -0.17693308, -0.54157775, -0.13083952, -1.52331816,\n",
       "         0.28956176,  0.16198405, -0.45397253,  0.14261945, -1.24782716,\n",
       "        -0.80042258, -0.37272636, -0.39655487, -1.78172984,  0.82513947,\n",
       "         0.54689965,  0.68659338,  0.65825389, -0.10535027, -0.09863147,\n",
       "        -0.68156717, -0.13066448,  0.31148911,  0.00290259, -0.86150451,\n",
       "        -0.44035617,  1.30814593, -0.30777246, -1.42801753,  0.20764379,\n",
       "        -0.37851574, -0.83268377, -1.20692791, -0.96065053, -0.26376853,\n",
       "         0.21497238, -0.59030243,  1.07204922, -0.32789142,  0.26964078,\n",
       "         0.57294878, -0.28030931, -0.89477778, -0.46923338,  0.10834744,\n",
       "         1.78566986, -0.77661835, -1.18703673, -0.66819831,  0.43899479,\n",
       "        -0.13212006,  0.59674898, -0.85206588, -0.10073187, -0.4685688 ,\n",
       "         1.39319459, -0.04617538, -0.15843341,  0.11885526,  0.56903018,\n",
       "         0.31667624,  1.3677558 ,  0.25447843, -0.83586207, -0.21888467,\n",
       "         0.65829016, -0.73977669,  0.18798955, -0.05876408, -0.34256677]),\n",
       " array([2.46045782e-03, 6.03413128e-02, 1.38731102e-01, 8.56375474e-01,\n",
       "        1.44674914e+00, 7.78574064e-01, 5.54272100e-01, 3.36427484e-01,\n",
       "        4.68137327e-01, 5.27490431e-02, 6.80886937e-01, 7.59143049e-01,\n",
       "        1.24309365e+00, 6.52430712e-01, 3.96599369e-01, 5.80514011e-01,\n",
       "        8.13614940e-01, 8.77122160e-01, 3.43163296e-01, 3.38280025e-01,\n",
       "        3.34004879e-01, 1.52736938e+00, 9.58822427e-01, 6.11758962e-01,\n",
       "        9.41710912e-01, 6.91901650e-01, 3.90915384e-01, 3.97039679e-01,\n",
       "        6.52499027e-01, 2.25547015e-01, 3.79572740e-01, 5.99676872e-01,\n",
       "        3.40414296e-01, 5.17415256e-02, 3.53829877e-02, 1.00129422e+00,\n",
       "        2.88933238e-01, 1.88118933e-01, 1.81420959e-01, 7.44287931e-02,\n",
       "        8.65683317e-01, 8.07487745e-01, 4.87086148e-01, 2.20084357e-01,\n",
       "        4.44525053e-01, 3.13992978e-01, 7.66712710e-01, 7.23649315e-01,\n",
       "        1.67341427e-01, 2.74104306e-01, 1.54984266e-02, 1.17746488e+00,\n",
       "        1.05451618e+00, 4.53544704e-01, 1.26138572e+00, 2.33764369e-01,\n",
       "        5.06426243e-01, 9.45770034e-01, 6.77348714e-01, 9.33420022e-01,\n",
       "        3.41255371e-02, 9.84222609e-01, 5.66743095e-01, 6.84236296e-02,\n",
       "        6.74236852e-01, 1.26755856e-03, 7.56677228e-01, 7.13254353e-01,\n",
       "        3.58804379e-01, 5.32157686e-01, 1.40624190e+00, 3.16091803e-01,\n",
       "        1.05663164e+00, 9.06435418e-01, 2.86651506e-02, 1.70677026e+00,\n",
       "        1.06095356e+00, 1.11534350e+00, 4.14133927e-01, 1.50712834e-01,\n",
       "        3.78728185e-01, 3.01690475e-01, 7.77650400e-01, 5.69612318e-01,\n",
       "        1.05223132e-01, 3.28721964e-01, 4.64473142e-01, 6.70490628e-01,\n",
       "        2.54806721e-01, 5.33842160e-01, 3.75761120e-01, 4.96452972e-01,\n",
       "        1.22953800e+00, 9.07001788e-02, 9.21780713e-01, 4.47199549e-01,\n",
       "        1.85429698e-01, 2.20225449e-01, 2.27151198e-01, 2.20366305e-01]))"
      ]
     },
     "execution_count": 32,
     "metadata": {},
     "output_type": "execute_result"
    }
   ],
   "source": [
    "X_n.mean(1), X_n.std(1)"
   ]
  },
  {
   "cell_type": "code",
   "execution_count": 33,
   "metadata": {},
   "outputs": [
    {
     "data": {
      "text/plain": [
       "<matplotlib.collections.PathCollection at 0x7fe7bee8ecd0>"
      ]
     },
     "execution_count": 33,
     "metadata": {},
     "output_type": "execute_result"
    },
    {
     "data": {
      "image/png": "[encoded data removed]",
      "text/plain": [
       "<Figure size 360x360 with 1 Axes>"
      ]
     },
     "metadata": {
      "needs_background": "light"
     },
     "output_type": "display_data"
    }
   ],
   "source": [
    "plt.figure(figsize=(5, 5))\n",
    "plt.scatter(X_normalized[:,0], X_n[:,1])\n"
   ]
  },
  {
   "cell_type": "code",
   "execution_count": null,
   "metadata": {},
   "outputs": [],
   "source": []
  }
 ],
 "metadata": {
  "kernelspec": {
   "display_name": "Python 3",
   "language": "python",
   "name": "python3"
  },
  "language_info": {
   "codemirror_mode": {
    "name": "ipython",
    "version": 3
   },
   "file_extension": ".py",
   "mimetype": "text/x-python",
   "name": "python",
   "nbconvert_exporter": "python",
   "pygments_lexer": "ipython3",
   "version": "3.7.6"
  },
  "toc": {
   "base_numbering": 1,
   "nav_menu": {},
   "number_sections": true,
   "sideBar": true,
   "skip_h1_title": false,
   "title_cell": "Table of Contents",
   "title_sidebar": "Contents",
   "toc_cell": false,
   "toc_position": {},
   "toc_section_display": true,
   "toc_window_display": false
  }
 },
 "nbformat": 4,
 "nbformat_minor": 4
}
